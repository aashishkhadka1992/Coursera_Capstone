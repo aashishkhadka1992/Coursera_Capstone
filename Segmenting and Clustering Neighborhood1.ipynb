{
 "cells": [
  {
   "cell_type": "markdown",
   "metadata": {},
   "source": [
    "# Segmenting and Clustering Neighborhoods in Toronto"
   ]
  },
  {
   "cell_type": "code",
   "execution_count": 1,
   "metadata": {},
   "outputs": [],
   "source": [
    "#Import required libraries\n",
    "from bs4 import BeautifulSoup\n",
    "import requests\n",
    "import csv\n",
    "import json\n",
    "from pandas.io.json import json_normalize\n",
    "import xml\n",
    "import pandas as pd\n",
    "import numpy as np\n",
    "from geopy.geocoders import Nominatim\n",
    "import matplotlib.cm as cm\n",
    "import matplotlib.colors as colors\n",
    "from sklearn.cluster import KMeans\n",
    "import folium"
   ]
  },
  {
   "cell_type": "markdown",
   "metadata": {},
   "source": [
    "### Download and explore dataset"
   ]
  },
  {
   "cell_type": "code",
   "execution_count": 2,
   "metadata": {},
   "outputs": [],
   "source": [
    "url='https://en.wikipedia.org/wiki/List_of_postal_codes_of_Canada:_M'\n",
    "source = requests.get(url).text\n",
    "\n",
    "result = BeautifulSoup(source, 'lxml')#Beautiful Soup to Parse the url page\n",
    "\n",
    "table=result.find('table') #Finds the required table area"
   ]
  },
  {
   "cell_type": "code",
   "execution_count": 3,
   "metadata": {},
   "outputs": [],
   "source": [
    "#table #Uncomment to view the table"
   ]
  },
  {
   "cell_type": "code",
   "execution_count": 4,
   "metadata": {},
   "outputs": [],
   "source": [
    "#List initialization to collect the Postalcodes, Boroughs and Neighborhoods\n",
    "postalcode=[]\n",
    "borough=[]\n",
    "neighborhood=[]\n",
    "\n",
    "x=table.tbody #Navigation to the body of the table\n",
    "\n",
    "for tr in x.find_all('tr'): #Iterating through rows \n",
    "    td=tr.find_all('td')\n",
    "    counter = 1\n",
    "    postalcode_value = -1\n",
    "    borough_value = -1\n",
    "    neighborhood_value = -1\n",
    "    for cell in td: #Itering through columns\n",
    "        if counter == 1:\n",
    "            postalcode_value = cell.text #Collecting the Postalcodes\n",
    "        if counter == 2:\n",
    "            borough_value = cell.text\n",
    "            tag_a_borough = cell.find('a')\n",
    "        if counter == 3:\n",
    "            neighborhood_value = str(cell.text).strip()\n",
    "            tag_a_neighborhood = cell.find('a')\n",
    "        \n",
    "        counter +=1\n",
    "    #Exclude postal codes with 'Not Assigned' values for Borough or Neighborhood \n",
    "    if (postalcode_value == 'Not Assigned' or borough_value == 'Not Assigned' or neighborhood_value == 'Not Assigned'):\n",
    "        continue\n",
    "    try:\n",
    "        if ((tag_a_borough is None) or (tag_a_neighborhood is None)):\n",
    "            continue\n",
    "    except:\n",
    "        pass\n",
    "    if (postalcode_value == -1 or borough_value == -1 or neighborhood_value == -1):\n",
    "        continue\n",
    "#Append derived values to the list        \n",
    "    postalcode.append(postalcode_value)\n",
    "    borough.append(borough_value)\n",
    "    neighborhood.append(neighborhood_value)"
   ]
  },
  {
   "cell_type": "code",
   "execution_count": 5,
   "metadata": {},
   "outputs": [
    {
     "name": "stdout",
     "output_type": "stream",
     "text": [
      "num of unique Postal codes: 84\n"
     ]
    }
   ],
   "source": [
    "unique_p = set(postalcode)\n",
    "print('num of unique Postal codes:', len(unique_p))\n",
    "postalcode_u      = []\n",
    "borough_u       = []\n",
    "neighborhood_u = []\n",
    "\n",
    "\n",
    "for postalcode_unique_element in unique_p:\n",
    "    p_var = ''; b_var = ''; n_var = ''; \n",
    "    for postalcode_idx, postalcode_element in enumerate(postalcode):\n",
    "        if postalcode_unique_element == postalcode_element:\n",
    "            p_var = postalcode_element;\n",
    "            b_var = borough[postalcode_idx]\n",
    "            if n_var == '': \n",
    "                n_var = neighborhood[postalcode_idx]\n",
    "            else:\n",
    "                n_var = n_var + ', ' + neighborhood[postalcode_idx]\n",
    "    postalcode_u.append(p_var)\n",
    "    borough_u.append(b_var)\n",
    "    neighborhood_u.append(n_var)"
   ]
  },
  {
   "cell_type": "markdown",
   "metadata": {},
   "source": [
    "### Transform data into Pandas DataFrame"
   ]
  },
  {
   "cell_type": "code",
   "execution_count": 6,
   "metadata": {},
   "outputs": [
    {
     "data": {
      "text/html": [
       "<div>\n",
       "<style scoped>\n",
       "    .dataframe tbody tr th:only-of-type {\n",
       "        vertical-align: middle;\n",
       "    }\n",
       "\n",
       "    .dataframe tbody tr th {\n",
       "        vertical-align: top;\n",
       "    }\n",
       "\n",
       "    .dataframe thead th {\n",
       "        text-align: right;\n",
       "    }\n",
       "</style>\n",
       "<table border=\"1\" class=\"dataframe\">\n",
       "  <thead>\n",
       "    <tr style=\"text-align: right;\">\n",
       "      <th></th>\n",
       "      <th>PostalCode</th>\n",
       "      <th>Borough</th>\n",
       "      <th>Neighborhood</th>\n",
       "    </tr>\n",
       "  </thead>\n",
       "  <tbody>\n",
       "    <tr>\n",
       "      <th>0</th>\n",
       "      <td>M9A</td>\n",
       "      <td>Etobicoke</td>\n",
       "      <td>Islington Avenue</td>\n",
       "    </tr>\n",
       "    <tr>\n",
       "      <th>1</th>\n",
       "      <td>M4H</td>\n",
       "      <td>East York</td>\n",
       "      <td>Thorncliffe Park</td>\n",
       "    </tr>\n",
       "    <tr>\n",
       "      <th>2</th>\n",
       "      <td>M1B</td>\n",
       "      <td>Scarborough</td>\n",
       "      <td>Rouge, Malvern</td>\n",
       "    </tr>\n",
       "    <tr>\n",
       "      <th>3</th>\n",
       "      <td>M9W</td>\n",
       "      <td>Etobicoke</td>\n",
       "      <td>Northwest</td>\n",
       "    </tr>\n",
       "    <tr>\n",
       "      <th>4</th>\n",
       "      <td>M9L</td>\n",
       "      <td>North York</td>\n",
       "      <td>Humber Summit</td>\n",
       "    </tr>\n",
       "  </tbody>\n",
       "</table>\n",
       "</div>"
      ],
      "text/plain": [
       "  PostalCode      Borough      Neighborhood\n",
       "0        M9A    Etobicoke  Islington Avenue\n",
       "1        M4H    East York  Thorncliffe Park\n",
       "2        M1B  Scarborough    Rouge, Malvern\n",
       "3        M9W    Etobicoke         Northwest\n",
       "4        M9L   North York     Humber Summit"
      ]
     },
     "execution_count": 6,
     "metadata": {},
     "output_type": "execute_result"
    }
   ],
   "source": [
    "df_toronto = pd.DataFrame({'PostalCode':postalcode_u,'Borough':borough_u,'Neighborhood':neighborhood_u})\n",
    "df_toronto.to_csv('toronto_part1.csv')\n",
    "df_toronto.head()"
   ]
  },
  {
   "cell_type": "code",
   "execution_count": 7,
   "metadata": {},
   "outputs": [
    {
     "data": {
      "text/plain": [
       "(84, 3)"
      ]
     },
     "execution_count": 7,
     "metadata": {},
     "output_type": "execute_result"
    }
   ],
   "source": [
    "df_toronto.shape"
   ]
  }
 ],
 "metadata": {
  "kernelspec": {
   "display_name": "Python 3",
   "language": "python",
   "name": "python3"
  },
  "language_info": {
   "codemirror_mode": {
    "name": "ipython",
    "version": 3
   },
   "file_extension": ".py",
   "mimetype": "text/x-python",
   "name": "python",
   "nbconvert_exporter": "python",
   "pygments_lexer": "ipython3",
   "version": "3.6.8"
  }
 },
 "nbformat": 4,
 "nbformat_minor": 2
}
